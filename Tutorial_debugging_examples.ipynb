{
 "cells": [
  {
   "cell_type": "markdown",
   "id": "817007aa-9e0e-4e40-994f-2972ca2052a1",
   "metadata": {},
   "source": [
    "## Debugging examples"
   ]
  },
  {
   "cell_type": "markdown",
   "id": "5f7606b5-4fed-46cc-8ae4-70dc98b073d1",
   "metadata": {},
   "source": [
    "### Example 1\n",
    "\n",
    "Expect plotted values to all be greater than 0."
   ]
  },
  {
   "cell_type": "code",
   "execution_count": 2,
   "id": "d16a4ac4-432e-459a-a077-e5c03537397e",
   "metadata": {},
   "outputs": [
    {
     "data": {
      "text/plain": [
       "<AxesSubplot:xlabel='Time'>"
      ]
     },
     "execution_count": 2,
     "metadata": {},
     "output_type": "execute_result"
    },
    {
     "data": {
      "image/png": "[encoded data removed]",
      "text/plain": [
       "<Figure size 432x288 with 1 Axes>"
      ]
     },
     "metadata": {
      "needs_background": "light"
     },
     "output_type": "display_data"
    }
   ],
   "source": [
    "import pandas as pd\n",
    "cfc_filename = \"AGAGE_CFC-11_global_monthly-modified.csv\"\n",
    "\n",
    "# Calling read_csv to skip first 3 header rows and include \"Time\" as the index.\n",
    "cfc_df = pd.read_csv(cfc_filename, skiprows=3, index_col = \"Time\")\n",
    "\n",
    "cfc_df.plot.line(y = \"Global mole fraction (ppt)\")"
   ]
  },
  {
   "cell_type": "markdown",
   "id": "9c56ac3d-162d-47f1-9254-08cff9943770",
   "metadata": {},
   "source": [
    " - What could you do to investigate this? What would you want to check?"
   ]
  },
  {
   "cell_type": "markdown",
   "id": "9b5c14d7-512c-42b5-961c-d587517477cb",
   "metadata": {},
   "source": [
    "---"
   ]
  },
  {
   "cell_type": "markdown",
   "id": "8f3f8445-dbf1-4953-b9dc-8517e4b5d033",
   "metadata": {},
   "source": [
    "### Example 2\n",
    "\n",
    "Error message being returned when trying to create and use a function"
   ]
  },
  {
   "cell_type": "code",
   "execution_count": 3,
   "id": "f8c4199a-c097-4c69-a1f0-60d4fbdff99f",
   "metadata": {},
   "outputs": [],
   "source": [
    "def encode(message):\n",
    "    \"\"\"\n",
    "    Encode a message from letters / numbers into morse code.\n",
    "    \"\"\"\n",
    "    morse = []\n",
    "\n",
    "    for letter in message:\n",
    "        morse_letter = letter_to_morse[letter]\n",
    "        morse.append(morse_letter)\n",
    "\n",
    "    morse_message = \" \".join(morse)\n",
    "    \n",
    "    return morse_message"
   ]
  },
  {
   "cell_type": "code",
   "execution_count": 4,
   "id": "377cdb7a-12a6-4fdb-b3fc-406d531d3658",
   "metadata": {},
   "outputs": [
    {
     "ename": "KeyError",
     "evalue": "'S'",
     "output_type": "error",
     "traceback": [
      "\u001b[0;31m---------------------------------------------------------------------------\u001b[0m",
      "\u001b[0;31mKeyError\u001b[0m                                  Traceback (most recent call last)",
      "Cell \u001b[0;32mIn[4], line 10\u001b[0m\n\u001b[1;32m      1\u001b[0m letter_to_morse \u001b[38;5;241m=\u001b[39m {\u001b[38;5;124m'\u001b[39m\u001b[38;5;124ma\u001b[39m\u001b[38;5;124m'\u001b[39m:\u001b[38;5;124m'\u001b[39m\u001b[38;5;124m.-\u001b[39m\u001b[38;5;124m'\u001b[39m, \u001b[38;5;124m'\u001b[39m\u001b[38;5;124mb\u001b[39m\u001b[38;5;124m'\u001b[39m:\u001b[38;5;124m'\u001b[39m\u001b[38;5;124m-...\u001b[39m\u001b[38;5;124m'\u001b[39m, \u001b[38;5;124m'\u001b[39m\u001b[38;5;124mc\u001b[39m\u001b[38;5;124m'\u001b[39m:\u001b[38;5;124m'\u001b[39m\u001b[38;5;124m-.-.\u001b[39m\u001b[38;5;124m'\u001b[39m, \u001b[38;5;124m'\u001b[39m\u001b[38;5;124md\u001b[39m\u001b[38;5;124m'\u001b[39m:\u001b[38;5;124m'\u001b[39m\u001b[38;5;124m-..\u001b[39m\u001b[38;5;124m'\u001b[39m, \u001b[38;5;124m'\u001b[39m\u001b[38;5;124me\u001b[39m\u001b[38;5;124m'\u001b[39m:\u001b[38;5;124m'\u001b[39m\u001b[38;5;124m.\u001b[39m\u001b[38;5;124m'\u001b[39m, \u001b[38;5;124m'\u001b[39m\u001b[38;5;124mf\u001b[39m\u001b[38;5;124m'\u001b[39m:\u001b[38;5;124m'\u001b[39m\u001b[38;5;124m..-.\u001b[39m\u001b[38;5;124m'\u001b[39m, \n\u001b[1;32m      2\u001b[0m                    \u001b[38;5;124m'\u001b[39m\u001b[38;5;124mg\u001b[39m\u001b[38;5;124m'\u001b[39m:\u001b[38;5;124m'\u001b[39m\u001b[38;5;124m--.\u001b[39m\u001b[38;5;124m'\u001b[39m, \u001b[38;5;124m'\u001b[39m\u001b[38;5;124mh\u001b[39m\u001b[38;5;124m'\u001b[39m:\u001b[38;5;124m'\u001b[39m\u001b[38;5;124m....\u001b[39m\u001b[38;5;124m'\u001b[39m, \u001b[38;5;124m'\u001b[39m\u001b[38;5;124mi\u001b[39m\u001b[38;5;124m'\u001b[39m:\u001b[38;5;124m'\u001b[39m\u001b[38;5;124m..\u001b[39m\u001b[38;5;124m'\u001b[39m, \u001b[38;5;124m'\u001b[39m\u001b[38;5;124mj\u001b[39m\u001b[38;5;124m'\u001b[39m:\u001b[38;5;124m'\u001b[39m\u001b[38;5;124m.---\u001b[39m\u001b[38;5;124m'\u001b[39m, \u001b[38;5;124m'\u001b[39m\u001b[38;5;124mk\u001b[39m\u001b[38;5;124m'\u001b[39m:\u001b[38;5;124m'\u001b[39m\u001b[38;5;124m-.-\u001b[39m\u001b[38;5;124m'\u001b[39m, \u001b[38;5;124m'\u001b[39m\u001b[38;5;124ml\u001b[39m\u001b[38;5;124m'\u001b[39m:\u001b[38;5;124m'\u001b[39m\u001b[38;5;124m.-..\u001b[39m\u001b[38;5;124m'\u001b[39m, \u001b[38;5;124m'\u001b[39m\u001b[38;5;124mm\u001b[39m\u001b[38;5;124m'\u001b[39m:\u001b[38;5;124m'\u001b[39m\u001b[38;5;124m--\u001b[39m\u001b[38;5;124m'\u001b[39m, \n\u001b[1;32m      3\u001b[0m                    \u001b[38;5;124m'\u001b[39m\u001b[38;5;124mn\u001b[39m\u001b[38;5;124m'\u001b[39m:\u001b[38;5;124m'\u001b[39m\u001b[38;5;124m-.\u001b[39m\u001b[38;5;124m'\u001b[39m, \u001b[38;5;124m'\u001b[39m\u001b[38;5;124mo\u001b[39m\u001b[38;5;124m'\u001b[39m:\u001b[38;5;124m'\u001b[39m\u001b[38;5;124m---\u001b[39m\u001b[38;5;124m'\u001b[39m, \u001b[38;5;124m'\u001b[39m\u001b[38;5;124mp\u001b[39m\u001b[38;5;124m'\u001b[39m:\u001b[38;5;124m'\u001b[39m\u001b[38;5;124m.--.\u001b[39m\u001b[38;5;124m'\u001b[39m, \u001b[38;5;124m'\u001b[39m\u001b[38;5;124mq\u001b[39m\u001b[38;5;124m'\u001b[39m:\u001b[38;5;124m'\u001b[39m\u001b[38;5;124m--.-\u001b[39m\u001b[38;5;124m'\u001b[39m, \u001b[38;5;124m'\u001b[39m\u001b[38;5;124mr\u001b[39m\u001b[38;5;124m'\u001b[39m:\u001b[38;5;124m'\u001b[39m\u001b[38;5;124m.-.\u001b[39m\u001b[38;5;124m'\u001b[39m, \u001b[38;5;124m'\u001b[39m\u001b[38;5;124ms\u001b[39m\u001b[38;5;124m'\u001b[39m:\u001b[38;5;124m'\u001b[39m\u001b[38;5;124m...\u001b[39m\u001b[38;5;124m'\u001b[39m, \u001b[38;5;124m'\u001b[39m\u001b[38;5;124mt\u001b[39m\u001b[38;5;124m'\u001b[39m:\u001b[38;5;124m'\u001b[39m\u001b[38;5;124m-\u001b[39m\u001b[38;5;124m'\u001b[39m,\n\u001b[0;32m   (...)\u001b[0m\n\u001b[1;32m      6\u001b[0m                    \u001b[38;5;124m'\u001b[39m\u001b[38;5;124m5\u001b[39m\u001b[38;5;124m'\u001b[39m:\u001b[38;5;124m'\u001b[39m\u001b[38;5;124m.....\u001b[39m\u001b[38;5;124m'\u001b[39m, \u001b[38;5;124m'\u001b[39m\u001b[38;5;124m6\u001b[39m\u001b[38;5;124m'\u001b[39m:\u001b[38;5;124m'\u001b[39m\u001b[38;5;124m-....\u001b[39m\u001b[38;5;124m'\u001b[39m, \u001b[38;5;124m'\u001b[39m\u001b[38;5;124m7\u001b[39m\u001b[38;5;124m'\u001b[39m:\u001b[38;5;124m'\u001b[39m\u001b[38;5;124m--...\u001b[39m\u001b[38;5;124m'\u001b[39m, \u001b[38;5;124m'\u001b[39m\u001b[38;5;124m8\u001b[39m\u001b[38;5;124m'\u001b[39m:\u001b[38;5;124m'\u001b[39m\u001b[38;5;124m---..\u001b[39m\u001b[38;5;124m'\u001b[39m, \u001b[38;5;124m'\u001b[39m\u001b[38;5;124m9\u001b[39m\u001b[38;5;124m'\u001b[39m:\u001b[38;5;124m'\u001b[39m\u001b[38;5;124m----.\u001b[39m\u001b[38;5;124m'\u001b[39m,\n\u001b[1;32m      7\u001b[0m                    \u001b[38;5;124m'\u001b[39m\u001b[38;5;124m \u001b[39m\u001b[38;5;124m'\u001b[39m:\u001b[38;5;124m'\u001b[39m\u001b[38;5;124m/\u001b[39m\u001b[38;5;124m'\u001b[39m}\n\u001b[1;32m      9\u001b[0m message \u001b[38;5;241m=\u001b[39m \u001b[38;5;124m\"\u001b[39m\u001b[38;5;124mSOS We have hit an iceberg and need help quickly\u001b[39m\u001b[38;5;124m\"\u001b[39m\n\u001b[0;32m---> 10\u001b[0m morse_message \u001b[38;5;241m=\u001b[39m \u001b[43mencode\u001b[49m\u001b[43m(\u001b[49m\u001b[43mmessage\u001b[49m\u001b[43m)\u001b[49m\n\u001b[1;32m     12\u001b[0m \u001b[38;5;28mprint\u001b[39m(\u001b[38;5;124mf\u001b[39m\u001b[38;5;124m\"\u001b[39m\u001b[38;5;124mIncoming message: \u001b[39m\u001b[38;5;132;01m{\u001b[39;00mmessage\u001b[38;5;132;01m}\u001b[39;00m\u001b[38;5;124m\"\u001b[39m)\n\u001b[1;32m     13\u001b[0m \u001b[38;5;28mprint\u001b[39m(\u001b[38;5;124mf\u001b[39m\u001b[38;5;124m\"\u001b[39m\u001b[38;5;124m   Morse encoded: \u001b[39m\u001b[38;5;132;01m{\u001b[39;00mmorse_message\u001b[38;5;132;01m}\u001b[39;00m\u001b[38;5;124m\"\u001b[39m)\n",
      "Cell \u001b[0;32mIn[3], line 8\u001b[0m, in \u001b[0;36mencode\u001b[0;34m(message)\u001b[0m\n\u001b[1;32m      5\u001b[0m morse \u001b[38;5;241m=\u001b[39m []\n\u001b[1;32m      7\u001b[0m \u001b[38;5;28;01mfor\u001b[39;00m letter \u001b[38;5;129;01min\u001b[39;00m message:\n\u001b[0;32m----> 8\u001b[0m     morse_letter \u001b[38;5;241m=\u001b[39m \u001b[43mletter_to_morse\u001b[49m\u001b[43m[\u001b[49m\u001b[43mletter\u001b[49m\u001b[43m]\u001b[49m\n\u001b[1;32m      9\u001b[0m     morse\u001b[38;5;241m.\u001b[39mappend(morse_letter)\n\u001b[1;32m     11\u001b[0m morse_message \u001b[38;5;241m=\u001b[39m \u001b[38;5;124m\"\u001b[39m\u001b[38;5;124m \u001b[39m\u001b[38;5;124m\"\u001b[39m\u001b[38;5;241m.\u001b[39mjoin(morse)\n",
      "\u001b[0;31mKeyError\u001b[0m: 'S'"
     ]
    }
   ],
   "source": [
    "letter_to_morse = {'a':'.-', 'b':'-...', 'c':'-.-.', 'd':'-..', 'e':'.', 'f':'..-.', \n",
    "                   'g':'--.', 'h':'....', 'i':'..', 'j':'.---', 'k':'-.-', 'l':'.-..', 'm':'--', \n",
    "                   'n':'-.', 'o':'---', 'p':'.--.', 'q':'--.-', 'r':'.-.', 's':'...', 't':'-',\n",
    "                   'u':'..-', 'v':'...-', 'w':'.--', 'x':'-..-', 'y':'-.--', 'z':'--..',\n",
    "                   '0':'-----', '1':'.----', '2':'..---', '3':'...--', '4':'....-',\n",
    "                   '5':'.....', '6':'-....', '7':'--...', '8':'---..', '9':'----.',\n",
    "                   ' ':'/'}\n",
    "\n",
    "message = \"SOS We have hit an iceberg and need help quickly\"\n",
    "morse_message = encode(message)\n",
    "\n",
    "print(f\"Incoming message: {message}\")\n",
    "print(f\"   Morse encoded: {morse_message}\")"
   ]
  },
  {
   "cell_type": "markdown",
   "id": "27f3b1ff-21ce-489f-bc51-2f68f6d42d1e",
   "metadata": {},
   "source": [
    " - What could be creating the error? What could you do to investigate this?"
   ]
  },
  {
   "cell_type": "markdown",
   "id": "596e1a8d-dde1-4130-884f-31a949c2aa11",
   "metadata": {},
   "source": [
    "---"
   ]
  },
  {
   "cell_type": "markdown",
   "id": "0d17778b",
   "metadata": {},
   "source": [
    "## Example 3"
   ]
  },
  {
   "cell_type": "code",
   "execution_count": 2,
   "id": "284d58b1",
   "metadata": {},
   "outputs": [
    {
     "name": "stderr",
     "output_type": "stream",
     "text": [
      "/tmp/ipykernel_530995/3802096507.py:2: DtypeWarning: Columns (19) have mixed types. Specify dtype option on import or set low_memory=False.\n",
      "  genres_df = pd.read_csv(\"genres_v2.csv\")\n"
     ]
    }
   ],
   "source": [
    "import pandas as pd\n",
    "genres_df = pd.read_csv(\"genres_v2.csv\")"
   ]
  },
  {
   "cell_type": "code",
   "execution_count": 3,
   "id": "f170a596",
   "metadata": {},
   "outputs": [
    {
     "data": {
      "text/html": [
       "<div>\n",
       "<style scoped>\n",
       "    .dataframe tbody tr th:only-of-type {\n",
       "        vertical-align: middle;\n",
       "    }\n",
       "\n",
       "    .dataframe tbody tr th {\n",
       "        vertical-align: top;\n",
       "    }\n",
       "\n",
       "    .dataframe thead th {\n",
       "        text-align: right;\n",
       "    }\n",
       "</style>\n",
       "<table border=\"1\" class=\"dataframe\">\n",
       "  <thead>\n",
       "    <tr style=\"text-align: right;\">\n",
       "      <th></th>\n",
       "      <th>danceability</th>\n",
       "      <th>energy</th>\n",
       "      <th>key</th>\n",
       "      <th>loudness</th>\n",
       "      <th>mode</th>\n",
       "      <th>speechiness</th>\n",
       "      <th>acousticness</th>\n",
       "      <th>instrumentalness</th>\n",
       "      <th>liveness</th>\n",
       "      <th>valence</th>\n",
       "      <th>...</th>\n",
       "      <th>id</th>\n",
       "      <th>uri</th>\n",
       "      <th>track_href</th>\n",
       "      <th>analysis_url</th>\n",
       "      <th>duration_ms</th>\n",
       "      <th>time_signature</th>\n",
       "      <th>genre</th>\n",
       "      <th>song_name</th>\n",
       "      <th>Unnamed: 0</th>\n",
       "      <th>title</th>\n",
       "    </tr>\n",
       "  </thead>\n",
       "  <tbody>\n",
       "    <tr>\n",
       "      <th>0</th>\n",
       "      <td>0.831</td>\n",
       "      <td>0.814</td>\n",
       "      <td>2</td>\n",
       "      <td>-7.364</td>\n",
       "      <td>1</td>\n",
       "      <td>0.4200</td>\n",
       "      <td>0.0598</td>\n",
       "      <td>0.013400</td>\n",
       "      <td>0.0556</td>\n",
       "      <td>0.3890</td>\n",
       "      <td>...</td>\n",
       "      <td>2Vc6NJ9PW9gD9q343XFRKx</td>\n",
       "      <td>spotify:track:2Vc6NJ9PW9gD9q343XFRKx</td>\n",
       "      <td>https://api.spotify.com/v1/tracks/2Vc6NJ9PW9gD...</td>\n",
       "      <td>https://api.spotify.com/v1/audio-analysis/2Vc6...</td>\n",
       "      <td>124539</td>\n",
       "      <td>4</td>\n",
       "      <td>Dark Trap</td>\n",
       "      <td>Mercury: Retrograde</td>\n",
       "      <td>NaN</td>\n",
       "      <td>NaN</td>\n",
       "    </tr>\n",
       "    <tr>\n",
       "      <th>1</th>\n",
       "      <td>0.719</td>\n",
       "      <td>0.493</td>\n",
       "      <td>8</td>\n",
       "      <td>-7.230</td>\n",
       "      <td>1</td>\n",
       "      <td>0.0794</td>\n",
       "      <td>0.4010</td>\n",
       "      <td>0.000000</td>\n",
       "      <td>0.1180</td>\n",
       "      <td>0.1240</td>\n",
       "      <td>...</td>\n",
       "      <td>7pgJBLVz5VmnL7uGHmRj6p</td>\n",
       "      <td>spotify:track:7pgJBLVz5VmnL7uGHmRj6p</td>\n",
       "      <td>https://api.spotify.com/v1/tracks/7pgJBLVz5Vmn...</td>\n",
       "      <td>https://api.spotify.com/v1/audio-analysis/7pgJ...</td>\n",
       "      <td>224427</td>\n",
       "      <td>4</td>\n",
       "      <td>Dark Trap</td>\n",
       "      <td>Pathology</td>\n",
       "      <td>NaN</td>\n",
       "      <td>NaN</td>\n",
       "    </tr>\n",
       "    <tr>\n",
       "      <th>2</th>\n",
       "      <td>0.850</td>\n",
       "      <td>0.893</td>\n",
       "      <td>5</td>\n",
       "      <td>-4.783</td>\n",
       "      <td>1</td>\n",
       "      <td>0.0623</td>\n",
       "      <td>0.0138</td>\n",
       "      <td>0.000004</td>\n",
       "      <td>0.3720</td>\n",
       "      <td>0.0391</td>\n",
       "      <td>...</td>\n",
       "      <td>0vSWgAlfpye0WCGeNmuNhy</td>\n",
       "      <td>spotify:track:0vSWgAlfpye0WCGeNmuNhy</td>\n",
       "      <td>https://api.spotify.com/v1/tracks/0vSWgAlfpye0...</td>\n",
       "      <td>https://api.spotify.com/v1/audio-analysis/0vSW...</td>\n",
       "      <td>98821</td>\n",
       "      <td>4</td>\n",
       "      <td>Dark Trap</td>\n",
       "      <td>Symbiote</td>\n",
       "      <td>NaN</td>\n",
       "      <td>NaN</td>\n",
       "    </tr>\n",
       "    <tr>\n",
       "      <th>3</th>\n",
       "      <td>0.476</td>\n",
       "      <td>0.781</td>\n",
       "      <td>0</td>\n",
       "      <td>-4.710</td>\n",
       "      <td>1</td>\n",
       "      <td>0.1030</td>\n",
       "      <td>0.0237</td>\n",
       "      <td>0.000000</td>\n",
       "      <td>0.1140</td>\n",
       "      <td>0.1750</td>\n",
       "      <td>...</td>\n",
       "      <td>0VSXnJqQkwuH2ei1nOQ1nu</td>\n",
       "      <td>spotify:track:0VSXnJqQkwuH2ei1nOQ1nu</td>\n",
       "      <td>https://api.spotify.com/v1/tracks/0VSXnJqQkwuH...</td>\n",
       "      <td>https://api.spotify.com/v1/audio-analysis/0VSX...</td>\n",
       "      <td>123661</td>\n",
       "      <td>3</td>\n",
       "      <td>Dark Trap</td>\n",
       "      <td>ProductOfDrugs (Prod. The Virus and Antidote)</td>\n",
       "      <td>NaN</td>\n",
       "      <td>NaN</td>\n",
       "    </tr>\n",
       "    <tr>\n",
       "      <th>4</th>\n",
       "      <td>0.798</td>\n",
       "      <td>0.624</td>\n",
       "      <td>2</td>\n",
       "      <td>-7.668</td>\n",
       "      <td>1</td>\n",
       "      <td>0.2930</td>\n",
       "      <td>0.2170</td>\n",
       "      <td>0.000000</td>\n",
       "      <td>0.1660</td>\n",
       "      <td>0.5910</td>\n",
       "      <td>...</td>\n",
       "      <td>4jCeguq9rMTlbMmPHuO7S3</td>\n",
       "      <td>spotify:track:4jCeguq9rMTlbMmPHuO7S3</td>\n",
       "      <td>https://api.spotify.com/v1/tracks/4jCeguq9rMTl...</td>\n",
       "      <td>https://api.spotify.com/v1/audio-analysis/4jCe...</td>\n",
       "      <td>123298</td>\n",
       "      <td>4</td>\n",
       "      <td>Dark Trap</td>\n",
       "      <td>Venom</td>\n",
       "      <td>NaN</td>\n",
       "      <td>NaN</td>\n",
       "    </tr>\n",
       "  </tbody>\n",
       "</table>\n",
       "<p>5 rows × 22 columns</p>\n",
       "</div>"
      ],
      "text/plain": [
       "   danceability  energy  key  loudness  mode  speechiness  acousticness  \\\n",
       "0         0.831   0.814    2    -7.364     1       0.4200        0.0598   \n",
       "1         0.719   0.493    8    -7.230     1       0.0794        0.4010   \n",
       "2         0.850   0.893    5    -4.783     1       0.0623        0.0138   \n",
       "3         0.476   0.781    0    -4.710     1       0.1030        0.0237   \n",
       "4         0.798   0.624    2    -7.668     1       0.2930        0.2170   \n",
       "\n",
       "   instrumentalness  liveness  valence  ...                      id  \\\n",
       "0          0.013400    0.0556   0.3890  ...  2Vc6NJ9PW9gD9q343XFRKx   \n",
       "1          0.000000    0.1180   0.1240  ...  7pgJBLVz5VmnL7uGHmRj6p   \n",
       "2          0.000004    0.3720   0.0391  ...  0vSWgAlfpye0WCGeNmuNhy   \n",
       "3          0.000000    0.1140   0.1750  ...  0VSXnJqQkwuH2ei1nOQ1nu   \n",
       "4          0.000000    0.1660   0.5910  ...  4jCeguq9rMTlbMmPHuO7S3   \n",
       "\n",
       "                                    uri  \\\n",
       "0  spotify:track:2Vc6NJ9PW9gD9q343XFRKx   \n",
       "1  spotify:track:7pgJBLVz5VmnL7uGHmRj6p   \n",
       "2  spotify:track:0vSWgAlfpye0WCGeNmuNhy   \n",
       "3  spotify:track:0VSXnJqQkwuH2ei1nOQ1nu   \n",
       "4  spotify:track:4jCeguq9rMTlbMmPHuO7S3   \n",
       "\n",
       "                                          track_href  \\\n",
       "0  https://api.spotify.com/v1/tracks/2Vc6NJ9PW9gD...   \n",
       "1  https://api.spotify.com/v1/tracks/7pgJBLVz5Vmn...   \n",
       "2  https://api.spotify.com/v1/tracks/0vSWgAlfpye0...   \n",
       "3  https://api.spotify.com/v1/tracks/0VSXnJqQkwuH...   \n",
       "4  https://api.spotify.com/v1/tracks/4jCeguq9rMTl...   \n",
       "\n",
       "                                        analysis_url duration_ms  \\\n",
       "0  https://api.spotify.com/v1/audio-analysis/2Vc6...      124539   \n",
       "1  https://api.spotify.com/v1/audio-analysis/7pgJ...      224427   \n",
       "2  https://api.spotify.com/v1/audio-analysis/0vSW...       98821   \n",
       "3  https://api.spotify.com/v1/audio-analysis/0VSX...      123661   \n",
       "4  https://api.spotify.com/v1/audio-analysis/4jCe...      123298   \n",
       "\n",
       "  time_signature      genre                                      song_name  \\\n",
       "0              4  Dark Trap                            Mercury: Retrograde   \n",
       "1              4  Dark Trap                                      Pathology   \n",
       "2              4  Dark Trap                                       Symbiote   \n",
       "3              3  Dark Trap  ProductOfDrugs (Prod. The Virus and Antidote)   \n",
       "4              4  Dark Trap                                          Venom   \n",
       "\n",
       "  Unnamed: 0 title  \n",
       "0        NaN   NaN  \n",
       "1        NaN   NaN  \n",
       "2        NaN   NaN  \n",
       "3        NaN   NaN  \n",
       "4        NaN   NaN  \n",
       "\n",
       "[5 rows x 22 columns]"
      ]
     },
     "execution_count": 3,
     "metadata": {},
     "output_type": "execute_result"
    }
   ],
   "source": [
    "genres_df.head()"
   ]
  },
  {
   "cell_type": "code",
   "execution_count": 30,
   "id": "f27c7586",
   "metadata": {},
   "outputs": [],
   "source": [
    "from sklearn.decomposition import PCA\n",
    "\n",
    "labels = genres_df[\"genre\"].values\n",
    "\n",
    "feature_names = [\"danceability\", \"energy\", \"loudness\", \"speechiness\",\n",
    "                 \"acousticness\", \"instrumentalness\", \"liveness\", \"valence\", \"tempo\"]\n",
    "features = genres_df[feature_names].values\n",
    "\n",
    "visualise_features = PCA(n_components=2).fit_transform(features)"
   ]
  },
  {
   "cell_type": "code",
   "execution_count": 31,
   "id": "6edc367c",
   "metadata": {},
   "outputs": [
    {
     "ename": "ValueError",
     "evalue": "All arguments should have the same length. The length of argument `color` is 42305, whereas the length of  previously-processed arguments ['x', 'y'] is 2",
     "output_type": "error",
     "traceback": [
      "\u001b[0;31m---------------------------------------------------------------------------\u001b[0m",
      "\u001b[0;31mValueError\u001b[0m                                Traceback (most recent call last)",
      "Cell \u001b[0;32mIn[31], line 6\u001b[0m\n\u001b[1;32m      2\u001b[0m \u001b[38;5;28;01mimport\u001b[39;00m \u001b[38;5;21;01mplotly\u001b[39;00m\u001b[38;5;21;01m.\u001b[39;00m\u001b[38;5;21;01mexpress\u001b[39;00m \u001b[38;5;28;01mas\u001b[39;00m \u001b[38;5;21;01mpx\u001b[39;00m\n\u001b[1;32m      4\u001b[0m \u001b[38;5;28;01massert\u001b[39;00m \u001b[38;5;28mlen\u001b[39m(labels) \u001b[38;5;241m==\u001b[39m \u001b[38;5;28mlen\u001b[39m(visualise_features)\n\u001b[0;32m----> 6\u001b[0m fig \u001b[38;5;241m=\u001b[39m \u001b[43mpx\u001b[49m\u001b[38;5;241;43m.\u001b[39;49m\u001b[43mscatter\u001b[49m\u001b[43m(\u001b[49m\u001b[43mx\u001b[49m\u001b[38;5;241;43m=\u001b[39;49m\u001b[43mvisualise_features\u001b[49m\u001b[43m[\u001b[49m\u001b[38;5;241;43m0\u001b[39;49m\u001b[43m]\u001b[49m\u001b[43m,\u001b[49m\u001b[43m \u001b[49m\u001b[43my\u001b[49m\u001b[38;5;241;43m=\u001b[39;49m\u001b[43mvisualise_features\u001b[49m\u001b[43m[\u001b[49m\u001b[38;5;241;43m1\u001b[39;49m\u001b[43m]\u001b[49m\u001b[43m,\u001b[49m\u001b[43m \u001b[49m\u001b[43mcolor\u001b[49m\u001b[38;5;241;43m=\u001b[39;49m\u001b[43mlabels\u001b[49m\u001b[43m)\u001b[49m\n\u001b[1;32m      7\u001b[0m fig\u001b[38;5;241m.\u001b[39mshow()\n",
      "File \u001b[0;32m~/.local/lib/python3.8/site-packages/plotly/express/_chart_types.py:66\u001b[0m, in \u001b[0;36mscatter\u001b[0;34m(data_frame, x, y, color, symbol, size, hover_name, hover_data, custom_data, text, facet_row, facet_col, facet_col_wrap, facet_row_spacing, facet_col_spacing, error_x, error_x_minus, error_y, error_y_minus, animation_frame, animation_group, category_orders, labels, orientation, color_discrete_sequence, color_discrete_map, color_continuous_scale, range_color, color_continuous_midpoint, symbol_sequence, symbol_map, opacity, size_max, marginal_x, marginal_y, trendline, trendline_options, trendline_color_override, trendline_scope, log_x, log_y, range_x, range_y, render_mode, title, template, width, height)\u001b[0m\n\u001b[1;32m     12\u001b[0m \u001b[38;5;28;01mdef\u001b[39;00m \u001b[38;5;21mscatter\u001b[39m(\n\u001b[1;32m     13\u001b[0m     data_frame\u001b[38;5;241m=\u001b[39m\u001b[38;5;28;01mNone\u001b[39;00m,\n\u001b[1;32m     14\u001b[0m     x\u001b[38;5;241m=\u001b[39m\u001b[38;5;28;01mNone\u001b[39;00m,\n\u001b[0;32m   (...)\u001b[0m\n\u001b[1;32m     60\u001b[0m     height\u001b[38;5;241m=\u001b[39m\u001b[38;5;28;01mNone\u001b[39;00m,\n\u001b[1;32m     61\u001b[0m ) \u001b[38;5;241m-\u001b[39m\u001b[38;5;241m>\u001b[39m go\u001b[38;5;241m.\u001b[39mFigure:\n\u001b[1;32m     62\u001b[0m     \u001b[38;5;124;03m\"\"\"\u001b[39;00m\n\u001b[1;32m     63\u001b[0m \u001b[38;5;124;03m    In a scatter plot, each row of `data_frame` is represented by a symbol\u001b[39;00m\n\u001b[1;32m     64\u001b[0m \u001b[38;5;124;03m    mark in 2D space.\u001b[39;00m\n\u001b[1;32m     65\u001b[0m \u001b[38;5;124;03m    \"\"\"\u001b[39;00m\n\u001b[0;32m---> 66\u001b[0m     \u001b[38;5;28;01mreturn\u001b[39;00m \u001b[43mmake_figure\u001b[49m\u001b[43m(\u001b[49m\u001b[43margs\u001b[49m\u001b[38;5;241;43m=\u001b[39;49m\u001b[38;5;28;43mlocals\u001b[39;49m\u001b[43m(\u001b[49m\u001b[43m)\u001b[49m\u001b[43m,\u001b[49m\u001b[43m \u001b[49m\u001b[43mconstructor\u001b[49m\u001b[38;5;241;43m=\u001b[39;49m\u001b[43mgo\u001b[49m\u001b[38;5;241;43m.\u001b[39;49m\u001b[43mScatter\u001b[49m\u001b[43m)\u001b[49m\n",
      "File \u001b[0;32m~/.local/lib/python3.8/site-packages/plotly/express/_core.py:1990\u001b[0m, in \u001b[0;36mmake_figure\u001b[0;34m(args, constructor, trace_patch, layout_patch)\u001b[0m\n\u001b[1;32m   1987\u001b[0m layout_patch \u001b[38;5;241m=\u001b[39m layout_patch \u001b[38;5;129;01mor\u001b[39;00m {}\n\u001b[1;32m   1988\u001b[0m apply_default_cascade(args)\n\u001b[0;32m-> 1990\u001b[0m args \u001b[38;5;241m=\u001b[39m \u001b[43mbuild_dataframe\u001b[49m\u001b[43m(\u001b[49m\u001b[43margs\u001b[49m\u001b[43m,\u001b[49m\u001b[43m \u001b[49m\u001b[43mconstructor\u001b[49m\u001b[43m)\u001b[49m\n\u001b[1;32m   1991\u001b[0m \u001b[38;5;28;01mif\u001b[39;00m constructor \u001b[38;5;129;01min\u001b[39;00m [go\u001b[38;5;241m.\u001b[39mTreemap, go\u001b[38;5;241m.\u001b[39mSunburst, go\u001b[38;5;241m.\u001b[39mIcicle] \u001b[38;5;129;01mand\u001b[39;00m args[\u001b[38;5;124m\"\u001b[39m\u001b[38;5;124mpath\u001b[39m\u001b[38;5;124m\"\u001b[39m] \u001b[38;5;129;01mis\u001b[39;00m \u001b[38;5;129;01mnot\u001b[39;00m \u001b[38;5;28;01mNone\u001b[39;00m:\n\u001b[1;32m   1992\u001b[0m     args \u001b[38;5;241m=\u001b[39m process_dataframe_hierarchy(args)\n",
      "File \u001b[0;32m~/.local/lib/python3.8/site-packages/plotly/express/_core.py:1405\u001b[0m, in \u001b[0;36mbuild_dataframe\u001b[0;34m(args, constructor)\u001b[0m\n\u001b[1;32m   1402\u001b[0m     args[\u001b[38;5;124m\"\u001b[39m\u001b[38;5;124mcolor\u001b[39m\u001b[38;5;124m\"\u001b[39m] \u001b[38;5;241m=\u001b[39m \u001b[38;5;28;01mNone\u001b[39;00m\n\u001b[1;32m   1403\u001b[0m \u001b[38;5;66;03m# now that things have been prepped, we do the systematic rewriting of `args`\u001b[39;00m\n\u001b[0;32m-> 1405\u001b[0m df_output, wide_id_vars \u001b[38;5;241m=\u001b[39m \u001b[43mprocess_args_into_dataframe\u001b[49m\u001b[43m(\u001b[49m\n\u001b[1;32m   1406\u001b[0m \u001b[43m    \u001b[49m\u001b[43margs\u001b[49m\u001b[43m,\u001b[49m\u001b[43m \u001b[49m\u001b[43mwide_mode\u001b[49m\u001b[43m,\u001b[49m\u001b[43m \u001b[49m\u001b[43mvar_name\u001b[49m\u001b[43m,\u001b[49m\u001b[43m \u001b[49m\u001b[43mvalue_name\u001b[49m\n\u001b[1;32m   1407\u001b[0m \u001b[43m\u001b[49m\u001b[43m)\u001b[49m\n\u001b[1;32m   1409\u001b[0m \u001b[38;5;66;03m# now that `df_output` exists and `args` contains only references, we complete\u001b[39;00m\n\u001b[1;32m   1410\u001b[0m \u001b[38;5;66;03m# the special-case and wide-mode handling by further rewriting args and/or mutating\u001b[39;00m\n\u001b[1;32m   1411\u001b[0m \u001b[38;5;66;03m# df_output\u001b[39;00m\n\u001b[1;32m   1413\u001b[0m count_name \u001b[38;5;241m=\u001b[39m _escape_col_name(df_output, \u001b[38;5;124m\"\u001b[39m\u001b[38;5;124mcount\u001b[39m\u001b[38;5;124m\"\u001b[39m, [var_name, value_name])\n",
      "File \u001b[0;32m~/.local/lib/python3.8/site-packages/plotly/express/_core.py:1245\u001b[0m, in \u001b[0;36mprocess_args_into_dataframe\u001b[0;34m(args, wide_mode, var_name, value_name)\u001b[0m\n\u001b[1;32m   1242\u001b[0m         col_name \u001b[38;5;241m=\u001b[39m _check_name_not_reserved(field, reserved_names)\n\u001b[1;32m   1244\u001b[0m     \u001b[38;5;28;01mif\u001b[39;00m length \u001b[38;5;129;01mand\u001b[39;00m \u001b[38;5;28mlen\u001b[39m(argument) \u001b[38;5;241m!=\u001b[39m length:\n\u001b[0;32m-> 1245\u001b[0m         \u001b[38;5;28;01mraise\u001b[39;00m \u001b[38;5;167;01mValueError\u001b[39;00m(\n\u001b[1;32m   1246\u001b[0m             \u001b[38;5;124m\"\u001b[39m\u001b[38;5;124mAll arguments should have the same length. \u001b[39m\u001b[38;5;124m\"\u001b[39m\n\u001b[1;32m   1247\u001b[0m             \u001b[38;5;124m\"\u001b[39m\u001b[38;5;124mThe length of argument `\u001b[39m\u001b[38;5;132;01m%s\u001b[39;00m\u001b[38;5;124m` is \u001b[39m\u001b[38;5;132;01m%d\u001b[39;00m\u001b[38;5;124m, whereas the \u001b[39m\u001b[38;5;124m\"\u001b[39m\n\u001b[1;32m   1248\u001b[0m             \u001b[38;5;124m\"\u001b[39m\u001b[38;5;124mlength of  previously-processed arguments \u001b[39m\u001b[38;5;132;01m%s\u001b[39;00m\u001b[38;5;124m is \u001b[39m\u001b[38;5;132;01m%d\u001b[39;00m\u001b[38;5;124m\"\u001b[39m\n\u001b[1;32m   1249\u001b[0m             \u001b[38;5;241m%\u001b[39m (field, \u001b[38;5;28mlen\u001b[39m(argument), \u001b[38;5;28mstr\u001b[39m(\u001b[38;5;28mlist\u001b[39m(df_output\u001b[38;5;241m.\u001b[39mcolumns)), length)\n\u001b[1;32m   1250\u001b[0m         )\n\u001b[1;32m   1251\u001b[0m     df_output[\u001b[38;5;28mstr\u001b[39m(col_name)] \u001b[38;5;241m=\u001b[39m to_unindexed_series(argument)\n\u001b[1;32m   1253\u001b[0m \u001b[38;5;66;03m# Finally, update argument with column name now that column exists\u001b[39;00m\n",
      "\u001b[0;31mValueError\u001b[0m: All arguments should have the same length. The length of argument `color` is 42305, whereas the length of  previously-processed arguments ['x', 'y'] is 2"
     ]
    }
   ],
   "source": [
    "# Want to plot the features and colour by genre\n",
    "import plotly.express as px\n",
    "\n",
    "assert len(labels) == len(visualise_features)\n",
    "\n",
    "fig = px.scatter(x=visualise_features[0], y=visualise_features[1], color=labels)\n",
    "fig.show()"
   ]
  },
  {
   "cell_type": "code",
   "execution_count": null,
   "id": "6187eab7",
   "metadata": {},
   "outputs": [],
   "source": []
  }
 ],
 "metadata": {
  "kernelspec": {
   "display_name": "Python 3 (ipykernel)",
   "language": "python",
   "name": "python3"
  },
  "language_info": {
   "codemirror_mode": {
    "name": "ipython",
    "version": 3
   },
   "file_extension": ".py",
   "mimetype": "text/x-python",
   "name": "python",
   "nbconvert_exporter": "python",
   "pygments_lexer": "ipython3",
   "version": "3.8.10"
  }
 },
 "nbformat": 4,
 "nbformat_minor": 5
}
